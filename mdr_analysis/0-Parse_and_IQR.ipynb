{
 "cells": [
  {
   "cell_type": "markdown",
   "metadata": {},
   "source": [
    "# Step 0:\n",
    "Before using Python programs to generate plots and analysis, use this program to compute Interquartile Range for the 100 simulations for any given set.\n",
    "\n",
    "The results will be stored in `IQR_data` directory as a comma-separated (csv) files for easy import to dataframe."
   ]
  },
  {
   "cell_type": "code",
   "execution_count": 1,
   "metadata": {},
   "outputs": [],
   "source": [
    "from plot_helper import IQR_compute"
   ]
  },
  {
   "cell_type": "markdown",
   "metadata": {},
   "source": [
    "- First parameter is filename pattern for the raw files\n",
    "- Second parameter is filename pattern for parsed files (added headers)\n",
    "- Third parameter is used to make results distinguishable by input settings"
   ]
  },
  {
   "cell_type": "code",
   "execution_count": 4,
   "metadata": {},
   "outputs": [],
   "source": [
    "IQR_compute('raw_data/set7_ac/monthly/set7ac_%smonthly_data_0.txt', 'parsed_data/set7_ac/monthly_%s.txt', 'set7ac')"
   ]
  },
  {
   "cell_type": "code",
   "execution_count": null,
   "metadata": {},
   "outputs": [],
   "source": []
  }
 ],
 "metadata": {
  "kernelspec": {
   "display_name": "Python 3",
   "language": "python",
   "name": "python3"
  },
  "language_info": {
   "codemirror_mode": {
    "name": "ipython",
    "version": 3
   },
   "file_extension": ".py",
   "mimetype": "text/x-python",
   "name": "python",
   "nbconvert_exporter": "python",
   "pygments_lexer": "ipython3",
   "version": "3.7.3"
  }
 },
 "nbformat": 4,
 "nbformat_minor": 4
}
